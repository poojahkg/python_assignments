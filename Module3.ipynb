{
 "cells": [
  {
   "cell_type": "markdown",
   "metadata": {},
   "source": [
    "# Python Basics"
   ]
  },
  {
   "cell_type": "markdown",
   "metadata": {},
   "source": [
    "These assignments aim to get you acquainted with Python, which is an important requirement for all the research done at Solarillion Foundation. Apart from teaching you Python, these assignments also aim to make you a better programmer and cultivate better coding practices. \n",
    "\n",
    "Visit these links for more details: <br>\n",
    "PEP8 Practices: https://www.python.org/dev/peps/pep-0008/ <br>\n",
    "Check PEP8: http://pep8online.com <br>\n",
    "Python Reference: https://www.py4e.com/lessons <br>\n",
    "\n",
    "Do use Google efficiently, and refer to StackOverflow for clarifying any programming doubts. If you're still stuck, feel free to ask a TA to help you.\n",
    "\n",
    "Each task in the assignment comprises of at least two cells. There are function definitions wherein you will name the function(s), and write code to solve the problem at hand. You will call the function(s) in the last cell of each task, and check your output.\n",
    "\n",
    "We encourage you to play around and learn as much as possible, and be as creative as you can get. More than anything, have fun doing these assignments. Enjoy!"
   ]
  },
  {
   "cell_type": "markdown",
   "metadata": {},
   "source": [
    "# Important\n",
    "* **Only the imports and functions must be present when you upload this notebook to GitHub for verification.** \n",
    "* **Do not upload it until you want to get it verified. Do not change function names or add extra cells or code, or remove anything.**\n",
    "* **For your rough work and four showing your code to TAs, use a different notebook with the name Module2Playground.ipynb and copy only the final functions to this notebook for verification.**"
   ]
  },
  {
   "cell_type": "markdown",
   "metadata": {},
   "source": [
    "# Module 3\n",
    "Scope: Algorithmic Thinking, Programming"
   ]
  },
  {
   "cell_type": "markdown",
   "metadata": {},
   "source": [
    "## Imports - Always Execute First!\n",
    "Import any modules and turn on any magic here:"
   ]
  },
  {
   "cell_type": "code",
   "execution_count": null,
   "metadata": {},
   "outputs": [],
   "source": [
    "from IPython import get_ipython\n",
    "ipy = get_ipython()\n",
    "if ipy is not None:\n",
    "    ipy.run_line_magic(\"load_ext\", \"pycodestyle_magic\")\n",
    "    ipy.run_line_magic(\"pycodestyle_on\", \"\")"
   ]
  },
  {
   "cell_type": "markdown",
   "metadata": {},
   "source": [
    "## Burger Mania"
   ]
  },
  {
   "cell_type": "code",
   "execution_count": 3,
   "metadata": {},
   "outputs": [
    {
     "data": {
      "text/plain": [
       "\"\\nImagine that you are a restaurant's cashier and are trying to keep records for analysing profits.\\n\\nYour restaurant sells 7 different items:\\n    1. Burgers - $4.25\\n    2. Nuggets - $2.50\\n    3. French Fries - $2.00\\n    4. Small Drink - $1.25\\n    5. Medium Drink - $1.50\\n    6. Large Drink - $1.75\\n    7. Salad - $3.75\\n\\nCreate a program to randomly generate the orders of each customer as a string of numbers\\n(corresponding to the item) and calculate the cost of the order. For example, if the generated\\nstring is 5712335, the program should understand that the customer has ordered 1 burger, 1 \\nportion of nuggets, 2 portions of fries, 2 medium drinks and 1 salad. It should then compute the\\ncost ($17.50). The final cost is calculated after considering discounts for combo offers and\\nadding 18% GST.\\n\\nThe combo offers are:\\nA) 1 Burger + 1 Portion of Fries + 1 Drink -> 20% discount\\nB) 1 Burger + 1 Portion of Nuggets + 1 Salad + 1 Drink -> 35% discount\\n\\nThe final cost of the 5712335 order is $13.4225. The profit gained each day has to be recorded for\\n30 days and plotted for analysis.\\n\\nNote:\\n    - There will be at least 20 customers and not more than 50 customers per day. Each customer\\n      orders at least 3 items and not more than 7 items.\\n    - If there is a possibility of availing multiple combo offers in an order, the program\\n      should select the offer with maximum discount.\\n\""
      ]
     },
     "execution_count": 3,
     "metadata": {},
     "output_type": "execute_result"
    }
   ],
   "source": [
    "\"\"\"\n",
    "Imagine that you are a restaurant's cashier and are trying to keep records for analysing profits.\n",
    "\n",
    "Your restaurant sells 7 different items:\n",
    "    1. Burgers - $4.25\n",
    "    2. Nuggets - $2.50\n",
    "    3. French Fries - $2.00\n",
    "    4. Small Drink - $1.25\n",
    "    5. Medium Drink - $1.50\n",
    "    6. Large Drink - $1.75\n",
    "    7. Salad - $3.75\n",
    "\n",
    "Create a program to randomly generate the orders of each customer as a string of numbers\n",
    "(corresponding to the item) and calculate the cost of the order. For example, if the generated\n",
    "string is 5712335, the program should understand that the customer has ordered 1 burger, 1 \n",
    "portion of nuggets, 2 portions of fries, 2 medium drinks and 1 salad. It should then compute the\n",
    "cost ($17.50). The final cost is calculated after considering discounts for combo offers and\n",
    "adding 18% GST.\n",
    "\n",
    "The combo offers are:\n",
    "A) 1 Burger + 1 Portion of Fries + 1 Drink -> 20% discount\n",
    "B) 1 Burger + 1 Portion of Nuggets + 1 Salad + 1 Drink -> 35% discount\n",
    "\n",
    "The final cost of the 5712335 order is $13.4225. The profit gained each day has to be recorded for\n",
    "30 days and plotted for analysis.\n",
    "\n",
    "Note:\n",
    "    - There will be at least 20 customers and not more than 50 customers per day. Each customer\n",
    "      orders at least 3 items and not more than 7 items.\n",
    "    - If there is a possibility of availing multiple combo offers in an order, the program\n",
    "      should select the offer with maximum discount.\n",
    "\"\"\""
   ]
  },
  {
   "cell_type": "code",
   "execution_count": 4,
   "metadata": {},
   "outputs": [],
   "source": [
    "def generate_order():\n",
    "    import random\n",
    "    \"\"\"\n",
    "        Function 1: generate_order()\n",
    "        Return: A randomly generated order string\n",
    "    \"\"\"\n",
    "    s = \"\"\n",
    "    for i in range(random.randint(3,8)):\n",
    "        s = s + str(random.randint(1,7))\n",
    "    return s"
   ]
  },
  {
   "cell_type": "code",
   "execution_count": 9,
   "metadata": {},
   "outputs": [],
   "source": [
    "def compute_cost(s):\n",
    "    \"\"\"\n",
    "        Function 2: compute_cost(order)\n",
    "        Parameters: order (String)\n",
    "        Return: Final cost of order\n",
    "    \"\"\"\n",
    "    order = {\"1\":4.25,\"2\":2.50,\"3\":2.00,\"4\":1.25,\"5\":1.50,\"6\":1.75,\"7\":3.75}\n",
    "    amt = 0\n",
    "    for i in s:\n",
    "        amt = amt+order[i]\n",
    "    if((\"1\" in s) and (\"3\" in s) and ((\"4\" in s) or (\"5\" in s) or (\"6\" in s))):\n",
    "        if(\"2\" in s):\n",
    "            amt = amt - (0.35*amt)\n",
    "        else:\n",
    "            amy = amt - (0.2*amt)\n",
    "    return amt + (0.18*amt) "
   ]
  },
  {
   "cell_type": "code",
   "execution_count": 13,
   "metadata": {},
   "outputs": [
    {
     "data": {
      "image/png": "[encoded data removed]",
      "text/plain": [
       "<Figure size 432x288 with 1 Axes>"
      ]
     },
     "metadata": {
      "needs_background": "light"
     },
     "output_type": "display_data"
    }
   ],
   "source": [
    "def simulate_restaurant():\n",
    "    import random\n",
    "    import matplotlib.pyplot as plt\n",
    "    \"\"\"\n",
    "        Function 3: simulate_restaurant()\n",
    "        Purpose: Simulate the restaurant's operation using the previously declared functions,\n",
    "                 based on the constraints mentioned in the question\n",
    "        Output: Plot of profit over 30 days\n",
    "    \"\"\"\n",
    "    days = []\n",
    "    profit = []\n",
    "    for i in range(30):\n",
    "        days.append(i)\n",
    "        customers = random.randint(20,50)\n",
    "        amt = 0\n",
    "        for j in range(customers):\n",
    "            cost = compute_cost((generate_order()))\n",
    "            amt += cost\n",
    "        profit.append(amt)\n",
    "    plt.xlabel('Days')\n",
    "    plt.ylabel('Profit')\n",
    "    plt.plot(days,profit)\n",
    "    plt.show()\n",
    "simulate_restaurant()"
   ]
  },
  {
   "cell_type": "markdown",
   "metadata": {},
   "source": [
    "You're done with the Basics of Python! Give yourself a pat on the back.\n",
    "\n",
    "Now, choose an area you want to work on - Machine Learning, Internet of Things or Microgrids - and get started with the assignments. You could also choose to do assignments from multiple areas, it's entirely up to you. Hope you have fun!"
   ]
  }
 ],
 "metadata": {
  "kernelspec": {
   "display_name": "Python 3",
   "language": "python",
   "name": "python3"
  },
  "language_info": {
   "codemirror_mode": {
    "name": "ipython",
    "version": 3
   },
   "file_extension": ".py",
   "mimetype": "text/x-python",
   "name": "python",
   "nbconvert_exporter": "python",
   "pygments_lexer": "ipython3",
   "version": "3.7.6"
  }
 },
 "nbformat": 4,
 "nbformat_minor": 2
}
